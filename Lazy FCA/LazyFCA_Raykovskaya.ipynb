{
 "cells": [
  {
   "cell_type": "code",
   "execution_count": 1,
   "metadata": {},
   "outputs": [],
   "source": [
    "import pandas as pd\n",
    "import numpy as np\n",
    "from sklearn.model_selection import KFold"
   ]
  },
  {
   "cell_type": "code",
   "execution_count": 2,
   "metadata": {},
   "outputs": [
    {
     "data": {
      "text/plain": [
       "Marital Status       2\n",
       "Gender               2\n",
       "Income              16\n",
       "Children             6\n",
       "Education            5\n",
       "Occupation           5\n",
       "Home Owner           2\n",
       "Cars                 5\n",
       "Commute Distance     5\n",
       "Region               3\n",
       "Age                 49\n",
       "Purchased Bike       2\n",
       "dtype: int64"
      ]
     },
     "execution_count": 2,
     "metadata": {},
     "output_type": "execute_result"
    }
   ],
   "source": [
    "data = pd.read_csv('bike_buyers.csv')\n",
    "data.nunique()"
   ]
  },
  {
   "cell_type": "code",
   "execution_count": 3,
   "metadata": {},
   "outputs": [
    {
     "data": {
      "text/html": [
       "<div>\n",
       "<style scoped>\n",
       "    .dataframe tbody tr th:only-of-type {\n",
       "        vertical-align: middle;\n",
       "    }\n",
       "\n",
       "    .dataframe tbody tr th {\n",
       "        vertical-align: top;\n",
       "    }\n",
       "\n",
       "    .dataframe thead th {\n",
       "        text-align: right;\n",
       "    }\n",
       "</style>\n",
       "<table border=\"1\" class=\"dataframe\">\n",
       "  <thead>\n",
       "    <tr style=\"text-align: right;\">\n",
       "      <th></th>\n",
       "      <th>Income</th>\n",
       "      <th>Age</th>\n",
       "    </tr>\n",
       "  </thead>\n",
       "  <tbody>\n",
       "    <tr>\n",
       "      <th>count</th>\n",
       "      <td>500.00000</td>\n",
       "      <td>500.000000</td>\n",
       "    </tr>\n",
       "    <tr>\n",
       "      <th>mean</th>\n",
       "      <td>56420.00000</td>\n",
       "      <td>43.930000</td>\n",
       "    </tr>\n",
       "    <tr>\n",
       "      <th>std</th>\n",
       "      <td>31840.40236</td>\n",
       "      <td>11.249097</td>\n",
       "    </tr>\n",
       "    <tr>\n",
       "      <th>min</th>\n",
       "      <td>10000.00000</td>\n",
       "      <td>25.000000</td>\n",
       "    </tr>\n",
       "    <tr>\n",
       "      <th>25%</th>\n",
       "      <td>30000.00000</td>\n",
       "      <td>35.000000</td>\n",
       "    </tr>\n",
       "    <tr>\n",
       "      <th>50%</th>\n",
       "      <td>60000.00000</td>\n",
       "      <td>43.000000</td>\n",
       "    </tr>\n",
       "    <tr>\n",
       "      <th>75%</th>\n",
       "      <td>70000.00000</td>\n",
       "      <td>51.000000</td>\n",
       "    </tr>\n",
       "    <tr>\n",
       "      <th>max</th>\n",
       "      <td>170000.00000</td>\n",
       "      <td>80.000000</td>\n",
       "    </tr>\n",
       "  </tbody>\n",
       "</table>\n",
       "</div>"
      ],
      "text/plain": [
       "             Income         Age\n",
       "count     500.00000  500.000000\n",
       "mean    56420.00000   43.930000\n",
       "std     31840.40236   11.249097\n",
       "min     10000.00000   25.000000\n",
       "25%     30000.00000   35.000000\n",
       "50%     60000.00000   43.000000\n",
       "75%     70000.00000   51.000000\n",
       "max    170000.00000   80.000000"
      ]
     },
     "execution_count": 3,
     "metadata": {},
     "output_type": "execute_result"
    }
   ],
   "source": [
    "data.loc[data['Cars']>0, 'Cars']=1\n",
    "data[['Income', 'Age']].describe()"
   ]
  },
  {
   "cell_type": "code",
   "execution_count": 4,
   "metadata": {},
   "outputs": [],
   "source": [
    "data.loc[data['Income']<30000, 'Income']=1\n",
    "data.loc[(data['Income']>=30000) & (data['Income']<60000), 'Income']=2\n",
    "data.loc[(data['Income']>=60000) & (data['Income']<70000), 'Income']=3\n",
    "data.loc[(data['Income']>=70000), 'Income']=4\n",
    "\n",
    "data.loc[data['Age']<35, 'Age']=1\n",
    "data.loc[(data['Age']>=35) & (data['Age']<43), 'Age']=2\n",
    "data.loc[(data['Age']>=43) & (data['Age']<52), 'Age']=3\n",
    "data.loc[(data['Age']>=52), 'Age']=4\n",
    "\n",
    "data.loc[data['Purchased Bike']=='Yes', 'Purchased Bike']='positive'\n",
    "data.loc[data['Purchased Bike']=='No', 'Purchased Bike']='negative'"
   ]
  },
  {
   "cell_type": "code",
   "execution_count": 5,
   "metadata": {},
   "outputs": [],
   "source": [
    "attrib_names = [str(i) for i in range(36)]\n",
    "attrib_names.append('class')"
   ]
  },
  {
   "cell_type": "markdown",
   "metadata": {},
   "source": [
    "#### Functions for estimating prediction quality"
   ]
  },
  {
   "cell_type": "code",
   "execution_count": 6,
   "metadata": {},
   "outputs": [],
   "source": [
    "def false_pos_rate(res):\n",
    "    return float(res[\"FP\"]) / max(1, res[\"FP\"] + res[\"TN\"])    \n",
    "\n",
    "def false_neg_rate(res):\n",
    "    return float(res[\"FN\"]) / max(1, res[\"FN\"] + res[\"TP\"])   \n",
    "\n",
    "def true_neg_rate(res):\n",
    "    return float(res[\"TN\"]) / max(1, res[\"TN\"] + res[\"FP\"])\n",
    "\n",
    "def neg_pred_val(res):\n",
    "    return float(res[\"TN\"]) / max(1, res[\"TN\"] + res[\"FN\"])\n",
    "\n",
    "def false_disc_rate(res):\n",
    "    return float(res[\"FP\"]) / max(1, res[\"TP\"] + res[\"FP\"])\n",
    "\n",
    "def accuracy(res):\n",
    "    return float(res[\"TP\"] + res[\"TN\"]) / max(1, res[\"TP\"] + res[\"TN\"] + res[\"FP\"] + res[\"FN\"] + res[\"contradiction\"])\n",
    "\n",
    "def precision(res):\n",
    "    return float(res[\"TP\"]) / max(1, res[\"TP\"] + res[\"FP\"])\n",
    "\n",
    "def recall(res):\n",
    "    return float(res[\"TP\"]) / max(1, res[\"TP\"] + res[\"FN\"])\n",
    "\n",
    "def F1_score(res):\n",
    "    prec = precision(res)\n",
    "    rec = recall(res)\n",
    "    return 2 * prec * rec / max(1, prec + rec)\n",
    "\n",
    "def share_of_contradiction(res):\n",
    "    return res['contradiction']/(res['TP']+res['TN']+res['FP']+res['FN']+res['contradiction'])\n",
    "\n",
    "\n",
    "def summary(res):\n",
    "    quality = {}\n",
    "    quality[\"accuracy\"] = accuracy(res)\n",
    "    quality[\"precision\"] = precision(res)\n",
    "    quality[\"recall\"] = recall(res)\n",
    "    quality[\"F1\"] = F1_score(res)\n",
    "    quality[\"Neg_pred_rate\"] = neg_pred_val(res)\n",
    "    quality[\"FP_rate\"] = false_pos_rate(res)\n",
    "    quality[\"FN_rate\"] = false_neg_rate(res)\n",
    "    quality[\"F_disc_rate\"] = false_disc_rate(res)\n",
    "    quality['Relative number of contradictions'] = share_of_contradiction(res)\n",
    "    return quality "
   ]
  },
  {
   "cell_type": "markdown",
   "metadata": {},
   "source": [
    "#### Supporting functions"
   ]
  },
  {
   "cell_type": "code",
   "execution_count": 7,
   "metadata": {},
   "outputs": [],
   "source": [
    "# Data transformation\n",
    "def prepare_data(train, target_name):\n",
    "    y=train[target_name]\n",
    "    train = train.drop(columns=target_name)                      \n",
    "    for column in train.columns:\n",
    "        if train[column].nunique()>2:\n",
    "            new_columns = pd.get_dummies(train[column], prefix = '_' + column)\n",
    "            train = train.drop(columns=column)\n",
    "            train = pd.concat([train, new_columns], axis=1)\n",
    "    train = pd.concat([train, y], axis=1)\n",
    "    return np.array(train).tolist()"
   ]
  },
  {
   "cell_type": "code",
   "execution_count": 8,
   "metadata": {},
   "outputs": [],
   "source": [
    "#Divide dataset into two contexts - positive and negative.\n",
    "def separation(train):\n",
    "    plus = [a for a in train if a[-1] == 'positive']\n",
    "    minus = [a for a in train if a[-1] == 'negative']\n",
    "    return plus, minus"
   ]
  },
  {
   "cell_type": "code",
   "execution_count": 9,
   "metadata": {},
   "outputs": [],
   "source": [
    "def make_intent(obs, attrib_names=attrib_names):\n",
    "    intent = set([i+':'+str(k) for i, k in zip(attrib_names,obs)][:-1])\n",
    "    return intent"
   ]
  },
  {
   "cell_type": "code",
   "execution_count": 10,
   "metadata": {},
   "outputs": [],
   "source": [
    "def run_argorithm(algorithm_name, plus, minus, test, params=None):\n",
    "    res = {'TP':0, 'TN':0, 'FP':0, 'FN':0, 'contradiction':0}\n",
    "    if params!=None:\n",
    "        if len(params)==1:\n",
    "            for i in range(len(test)):\n",
    "                key = algorithm_name(plus, minus, test[i], params[list(params.keys())[0]])\n",
    "                res[key]+=1\n",
    "        else:\n",
    "            for i in range(len(test)):\n",
    "                key = algorithm_name(plus, minus, test[i], params[list(params.keys())[0]], params[list(params.keys())[1]])\n",
    "                res[key]+=1\n",
    "    else: \n",
    "        for i in range(len(test)):\n",
    "                key = algorithm_name(plus, minus, test[i])\n",
    "                res[key]+=1\n",
    "    quality = summary(res)\n",
    "    return quality"
   ]
  },
  {
   "cell_type": "markdown",
   "metadata": {},
   "source": [
    "### Algorithms"
   ]
  },
  {
   "cell_type": "code",
   "execution_count": 11,
   "metadata": {},
   "outputs": [],
   "source": [
    "#Algorithm 1\n",
    "#Based on majority voting rule\n",
    "\n",
    "def algorithm1(plus, minus, test_example, min_cardinality):\n",
    "    test_intent = make_intent(test_example)\n",
    "    prediction = {\"positive\": True, \"negative\": True}\n",
    "    pos_votes = 0\n",
    "    neg_votes = 0\n",
    "    for obs in plus:\n",
    "        intent = make_intent(obs)\n",
    "        intersection = intent & test_intent\n",
    "        minus_check = [make_intent(i) for i in minus if make_intent(i).issuperset(intersection)]\n",
    "        if len(minus_check)==0 and len(intersection)>min_cardinality:\n",
    "            pos_votes+=1\n",
    "\n",
    "        \n",
    "    for obs in minus:\n",
    "        intent = make_intent(obs)\n",
    "        intersection = intent & test_intent\n",
    "        plus_check = [make_intent(i) for i in plus if make_intent(i).issuperset(intersection)]\n",
    "        if len(plus_check)==0 and len(intersection)>min_cardinality:\n",
    "            neg_votes+=1\n",
    "            \n",
    "    if pos_votes>neg_votes:\n",
    "        prediction['negative']=False\n",
    "    elif pos_votes<neg_votes:\n",
    "        prediction['positive']=False\n",
    "    else: \n",
    "        prediction['positive']=False\n",
    "        prediction['negative']=False\n",
    "    \n",
    "    if not prediction['positive'] and not prediction['negative']:\n",
    "        return 'contradiction'\n",
    "    \n",
    "    if test_example[-1] == \"positive\" and prediction['positive']:\n",
    "        return 'TP'\n",
    "    \n",
    "    if test_example[-1] == \"positive\" and prediction[\"negative\"]:\n",
    "        return 'FN'\n",
    "\n",
    "    if test_example[-1] == \"negative\" and prediction[\"positive\"]:\n",
    "        return 'FP'\n",
    "\n",
    "    if test_example[-1] == \"negative\" and prediction[\"negative\"]:\n",
    "        return 'TN'\n",
    "        "
   ]
  },
  {
   "cell_type": "code",
   "execution_count": null,
   "metadata": {},
   "outputs": [],
   "source": [
    "#Hyperparameter tunning\n",
    "\n",
    "kf = KFold(n_splits=3, shuffle=True, random_state=12)\n",
    "kfold_results = []\n",
    "for train_index, test_index in kf.split(data):\n",
    "    train, test = data.iloc[train_index], data.iloc[test_index]\n",
    "    train = prepare_data(train, 'Purchased Bike')\n",
    "    test = prepare_data(test, 'Purchased Bike')\n",
    "    plus,minus = separation(train)\n",
    "    min_cardinality = [5,10,15,30]\n",
    "    acc = []\n",
    "    for i in min_cardinality:\n",
    "        params = {\"min_cardinality\":i}\n",
    "        results = run_argorithm(algorithm1, plus, minus, test, params)['accuracy']\n",
    "        acc.append(results)\n",
    "    kfold_results.append(acc)\n",
    "    results = pd.DataFrame({'min_cardinality':min_cardinality,'accuracy':acc})\n",
    "    \n",
    "params_results = pd.DataFrame({'1':kfold_results[0],'2':kfold_results[1],'3':kfold_results[2]}, index=min_cardinality).mean(axis=1)\n",
    "params_results"
   ]
  },
  {
   "cell_type": "code",
   "execution_count": 80,
   "metadata": {},
   "outputs": [],
   "source": [
    "#Algorithm 2\n",
    "#Based on average support \n",
    "\n",
    "def algorithm2(plus, minus, test_example):\n",
    "    test_intent = make_intent(test_example)\n",
    "    prediction = {\"positive\": True, \"negative\": True}\n",
    "    total_plus_support = 0\n",
    "    total_minus_support = 0\n",
    "    for obs in plus:\n",
    "        intent = make_intent(obs)\n",
    "        intersection = intent & test_intent\n",
    "        plus_support = len([make_intent(i) for i in plus if make_intent(i).issuperset(intersection)])/len(plus)\n",
    "        total_plus_support+=plus_support\n",
    "    total_plus_support = total_plus_support/len(plus)\n",
    "\n",
    "        \n",
    "    for obs in minus:\n",
    "        intent = make_intent(obs)\n",
    "        intersection = intent & test_intent\n",
    "        minus_support = len([make_intent(i) for i in minus if make_intent(i).issuperset(intersection)])/len(minus)\n",
    "        total_minus_support+=minus_support\n",
    "    total_minus_support = total_minus_support/len(minus)\n",
    "    \n",
    "    if total_plus_support>total_minus_support:\n",
    "        prediction['negative']=False\n",
    "    elif total_plus_support<total_minus_support:\n",
    "        prediction['positive']=False\n",
    "    else: \n",
    "        prediction['positive']=False\n",
    "        prediction['negative']=False\n",
    "    \n",
    "    if not prediction['positive'] and not prediction['negative']:\n",
    "        return 'contradiction'\n",
    "    \n",
    "    if test_example[-1] == \"positive\" and prediction['positive']:\n",
    "        return 'TP'\n",
    "    \n",
    "    if test_example[-1] == \"positive\" and prediction[\"negative\"]:\n",
    "        return 'FN'\n",
    "\n",
    "    if test_example[-1] == \"negative\" and prediction[\"positive\"]:\n",
    "        return 'FP'\n",
    "\n",
    "    if test_example[-1] == \"negative\" and prediction[\"negative\"]:\n",
    "        return 'TN'\n"
   ]
  },
  {
   "cell_type": "code",
   "execution_count": 83,
   "metadata": {},
   "outputs": [],
   "source": [
    "#Algorithm 3\n",
    "#Based on the length of the intersection \n",
    "\n",
    "def algorithm3(plus, minus, test_example):\n",
    "    test_intent = make_intent(test_example)\n",
    "    prediction = {\"positive\": True, \"negative\": True}\n",
    "    len_plus = []\n",
    "    len_minus = []\n",
    "    for obs in plus:\n",
    "        intent = make_intent(obs)\n",
    "        intersection = len(intent & test_intent)\n",
    "        len_plus.append(intersection)\n",
    "        \n",
    "    for obs in minus:\n",
    "        intent = make_intent(obs)\n",
    "        intersection = len(intent & test_intent)\n",
    "        len_minus.append(intersection)\n",
    "        \n",
    "    if max(len_plus)>max(len_minus):\n",
    "        prediction['negative']=False\n",
    "    elif max(len_plus)<max(len_minus):\n",
    "        prediction['positive']=False\n",
    "    else: \n",
    "        prediction['positive']=False\n",
    "        prediction['negative']=False\n",
    "    \n",
    "    if not prediction['positive'] and not prediction['negative']:\n",
    "        return 'contradiction'\n",
    "    \n",
    "    if test_example[-1] == \"positive\" and prediction['positive']:\n",
    "        return 'TP'\n",
    "    \n",
    "    if test_example[-1] == \"positive\" and prediction[\"negative\"]:\n",
    "        return 'FN'\n",
    "\n",
    "    if test_example[-1] == \"negative\" and prediction[\"positive\"]:\n",
    "        return 'FP'\n",
    "\n",
    "    if test_example[-1] == \"negative\" and prediction[\"negative\"]:\n",
    "        return 'TN'\n"
   ]
  },
  {
   "cell_type": "markdown",
   "metadata": {},
   "source": [
    "### Getting the results"
   ]
  },
  {
   "cell_type": "code",
   "execution_count": 90,
   "metadata": {},
   "outputs": [],
   "source": [
    "kf = KFold(n_splits=3, shuffle=True, random_state=12)\n",
    "kfold_results = []\n",
    "for train_index, test_index in kf.split(data):\n",
    "    train, test = data.iloc[train_index], data.iloc[test_index]\n",
    "    train = prepare_data(train, 'Purchased Bike')\n",
    "    test = prepare_data(test, 'Purchased Bike')\n",
    "    plus,minus = separation(train)\n",
    "    results1 = run_argorithm(algorithm1, plus, minus, test, {'min_cardinality':15})\n",
    "    kfold_results.append(results2)\n",
    "    results2 = run_argorithm(algorithm2, plus, minus, test)\n",
    "    kfold_results.append(results3)\n",
    "    results3 = run_argorithm(algorithm3, plus, minus, test)\n",
    "    kfold_results.append(results4)"
   ]
  },
  {
   "cell_type": "code",
   "execution_count": 91,
   "metadata": {},
   "outputs": [
    {
     "data": {
      "text/plain": [
       "accuracy                             0.613989\n",
       "precision                            0.625132\n",
       "recall                               0.640180\n",
       "F1                                   0.629370\n",
       "Neg_pred_rate                        0.642482\n",
       "FP_rate                              0.374199\n",
       "FN_rate                              0.359820\n",
       "F_disc_rate                          0.374868\n",
       "Relative number of contradictions    0.025996\n",
       "dtype: float64"
      ]
     },
     "execution_count": 91,
     "metadata": {},
     "output_type": "execute_result"
    }
   ],
   "source": [
    "algo_1 = pd.DataFrame()\n",
    "algo_1 = algo_1.append(kfold_results[0], ignore_index=True)\n",
    "algo_1 = algo_1.append(kfold_results[3], ignore_index=True)\n",
    "algo_1 = algo_1.append(kfold_results[6], ignore_index=True)\n",
    "algo_1.mean()"
   ]
  },
  {
   "cell_type": "code",
   "execution_count": 92,
   "metadata": {},
   "outputs": [
    {
     "data": {
      "text/plain": [
       "accuracy                             0.637965\n",
       "precision                            0.635526\n",
       "recall                               0.630807\n",
       "F1                                   0.632554\n",
       "Neg_pred_rate                        0.637087\n",
       "FP_rate                              0.361166\n",
       "FN_rate                              0.369193\n",
       "F_disc_rate                          0.364474\n",
       "Relative number of contradictions    0.000000\n",
       "dtype: float64"
      ]
     },
     "execution_count": 92,
     "metadata": {},
     "output_type": "execute_result"
    }
   ],
   "source": [
    "algo_2 = pd.DataFrame()\n",
    "algo_2 = algo_2.append(kfold_results[1], ignore_index=True)\n",
    "algo_2 = algo_2.append(kfold_results[4], ignore_index=True)\n",
    "algo_2 = algo_2.append(kfold_results[7], ignore_index=True)\n",
    "algo_2.mean()"
   ]
  },
  {
   "cell_type": "code",
   "execution_count": 93,
   "metadata": {},
   "outputs": [
    {
     "data": {
      "text/plain": [
       "accuracy                             0.537912\n",
       "precision                            0.638490\n",
       "recall                               0.655354\n",
       "F1                                   0.646015\n",
       "Neg_pred_rate                        0.659847\n",
       "FP_rate                              0.356602\n",
       "FN_rate                              0.344646\n",
       "F_disc_rate                          0.361510\n",
       "Relative number of contradictions    0.172041\n",
       "dtype: float64"
      ]
     },
     "execution_count": 93,
     "metadata": {},
     "output_type": "execute_result"
    }
   ],
   "source": [
    "algo_3 = pd.DataFrame()\n",
    "algo_3 = algo_3.append(kfold_results[2], ignore_index=True)\n",
    "algo_3 = algo_3.append(kfold_results[5], ignore_index=True)\n",
    "algo_3 = algo_3.append(kfold_results[8], ignore_index=True)\n",
    "algo_3.mean()"
   ]
  },
  {
   "cell_type": "code",
   "execution_count": null,
   "metadata": {},
   "outputs": [],
   "source": []
  }
 ],
 "metadata": {
  "kernelspec": {
   "display_name": "Python 3",
   "language": "python",
   "name": "python3"
  },
  "language_info": {
   "codemirror_mode": {
    "name": "ipython",
    "version": 3
   },
   "file_extension": ".py",
   "mimetype": "text/x-python",
   "name": "python",
   "nbconvert_exporter": "python",
   "pygments_lexer": "ipython3",
   "version": "3.8.3"
  }
 },
 "nbformat": 4,
 "nbformat_minor": 4
}
